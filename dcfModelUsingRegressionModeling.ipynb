{
 "cells": [
  {
   "cell_type": "code",
   "execution_count": 1,
   "metadata": {},
   "outputs": [],
   "source": [
    "import pandas as pd\n",
    "import numpy as np\n",
    "import matplotlib.pyplot as plt\n",
    "import yfinance as yf\n",
    "import yahoo_fin.stock_info as si\n",
    "import math\n",
    "import sklearn\n"
   ]
  },
  {
   "cell_type": "code",
   "execution_count": 2,
   "metadata": {},
   "outputs": [
    {
     "data": {
      "text/html": [
       "<div>\n",
       "<style scoped>\n",
       "    .dataframe tbody tr th:only-of-type {\n",
       "        vertical-align: middle;\n",
       "    }\n",
       "\n",
       "    .dataframe tbody tr th {\n",
       "        vertical-align: top;\n",
       "    }\n",
       "\n",
       "    .dataframe thead th {\n",
       "        text-align: right;\n",
       "    }\n",
       "</style>\n",
       "<table border=\"1\" class=\"dataframe\">\n",
       "  <thead>\n",
       "    <tr style=\"text-align: right;\">\n",
       "      <th></th>\n",
       "      <th>2021-09-25</th>\n",
       "      <th>2020-09-26</th>\n",
       "      <th>2019-09-28</th>\n",
       "      <th>2018-09-29</th>\n",
       "    </tr>\n",
       "  </thead>\n",
       "  <tbody>\n",
       "    <tr>\n",
       "      <th>Investments</th>\n",
       "      <td>-2.819000e+09</td>\n",
       "      <td>5.335000e+09</td>\n",
       "      <td>5.809300e+10</td>\n",
       "      <td>3.084500e+10</td>\n",
       "    </tr>\n",
       "    <tr>\n",
       "      <th>Change To Liabilities</th>\n",
       "      <td>1.400200e+10</td>\n",
       "      <td>-1.981000e+09</td>\n",
       "      <td>-2.548000e+09</td>\n",
       "      <td>9.172000e+09</td>\n",
       "    </tr>\n",
       "    <tr>\n",
       "      <th>Total Cashflows From Investing Activities</th>\n",
       "      <td>-1.454500e+10</td>\n",
       "      <td>-4.289000e+09</td>\n",
       "      <td>4.589600e+10</td>\n",
       "      <td>1.606600e+10</td>\n",
       "    </tr>\n",
       "    <tr>\n",
       "      <th>Net Borrowings</th>\n",
       "      <td>1.266500e+10</td>\n",
       "      <td>2.499000e+09</td>\n",
       "      <td>-7.819000e+09</td>\n",
       "      <td>4.320000e+08</td>\n",
       "    </tr>\n",
       "    <tr>\n",
       "      <th>Total Cash From Financing Activities</th>\n",
       "      <td>-9.335300e+10</td>\n",
       "      <td>-8.682000e+10</td>\n",
       "      <td>-9.097600e+10</td>\n",
       "      <td>-8.787600e+10</td>\n",
       "    </tr>\n",
       "    <tr>\n",
       "      <th>Change To Operating Activities</th>\n",
       "      <td>-6.146000e+09</td>\n",
       "      <td>8.810000e+08</td>\n",
       "      <td>-8.960000e+08</td>\n",
       "      <td>3.001600e+10</td>\n",
       "    </tr>\n",
       "    <tr>\n",
       "      <th>Issuance Of Stock</th>\n",
       "      <td>1.105000e+09</td>\n",
       "      <td>8.800000e+08</td>\n",
       "      <td>7.810000e+08</td>\n",
       "      <td>6.690000e+08</td>\n",
       "    </tr>\n",
       "    <tr>\n",
       "      <th>Net Income</th>\n",
       "      <td>9.468000e+10</td>\n",
       "      <td>5.741100e+10</td>\n",
       "      <td>5.525600e+10</td>\n",
       "      <td>5.953100e+10</td>\n",
       "    </tr>\n",
       "    <tr>\n",
       "      <th>Change In Cash</th>\n",
       "      <td>-3.860000e+09</td>\n",
       "      <td>-1.043500e+10</td>\n",
       "      <td>2.431100e+10</td>\n",
       "      <td>5.624000e+09</td>\n",
       "    </tr>\n",
       "    <tr>\n",
       "      <th>Repurchase Of Stock</th>\n",
       "      <td>-9.252700e+10</td>\n",
       "      <td>-7.599200e+10</td>\n",
       "      <td>-6.971400e+10</td>\n",
       "      <td>-7.526500e+10</td>\n",
       "    </tr>\n",
       "    <tr>\n",
       "      <th>Total Cash From Operating Activities</th>\n",
       "      <td>1.040380e+11</td>\n",
       "      <td>8.067400e+10</td>\n",
       "      <td>6.939100e+10</td>\n",
       "      <td>7.743400e+10</td>\n",
       "    </tr>\n",
       "    <tr>\n",
       "      <th>Depreciation</th>\n",
       "      <td>1.128400e+10</td>\n",
       "      <td>1.105600e+10</td>\n",
       "      <td>1.254700e+10</td>\n",
       "      <td>1.090300e+10</td>\n",
       "    </tr>\n",
       "    <tr>\n",
       "      <th>Other Cashflows From Investing Activities</th>\n",
       "      <td>-6.080000e+08</td>\n",
       "      <td>-7.910000e+08</td>\n",
       "      <td>-1.078000e+09</td>\n",
       "      <td>-7.450000e+08</td>\n",
       "    </tr>\n",
       "    <tr>\n",
       "      <th>Dividends Paid</th>\n",
       "      <td>-1.446700e+10</td>\n",
       "      <td>-1.408100e+10</td>\n",
       "      <td>-1.411900e+10</td>\n",
       "      <td>-1.371200e+10</td>\n",
       "    </tr>\n",
       "    <tr>\n",
       "      <th>Change To Inventory</th>\n",
       "      <td>-2.642000e+09</td>\n",
       "      <td>-1.270000e+08</td>\n",
       "      <td>-2.890000e+08</td>\n",
       "      <td>8.280000e+08</td>\n",
       "    </tr>\n",
       "    <tr>\n",
       "      <th>Change To Account Receivables</th>\n",
       "      <td>-1.012500e+10</td>\n",
       "      <td>6.917000e+09</td>\n",
       "      <td>2.450000e+08</td>\n",
       "      <td>-5.322000e+09</td>\n",
       "    </tr>\n",
       "    <tr>\n",
       "      <th>Other Cashflows From Financing Activities</th>\n",
       "      <td>-1.290000e+08</td>\n",
       "      <td>-1.260000e+08</td>\n",
       "      <td>-1.050000e+08</td>\n",
       "      <td>-1.050000e+08</td>\n",
       "    </tr>\n",
       "    <tr>\n",
       "      <th>Change To Netincome</th>\n",
       "      <td>2.985000e+09</td>\n",
       "      <td>6.517000e+09</td>\n",
       "      <td>5.076000e+09</td>\n",
       "      <td>-2.769400e+10</td>\n",
       "    </tr>\n",
       "    <tr>\n",
       "      <th>Capital Expenditures</th>\n",
       "      <td>-1.108500e+10</td>\n",
       "      <td>-7.309000e+09</td>\n",
       "      <td>-1.049500e+10</td>\n",
       "      <td>-1.331300e+10</td>\n",
       "    </tr>\n",
       "  </tbody>\n",
       "</table>\n",
       "</div>"
      ],
      "text/plain": [
       "                                             2021-09-25    2020-09-26  \\\n",
       "Investments                               -2.819000e+09  5.335000e+09   \n",
       "Change To Liabilities                      1.400200e+10 -1.981000e+09   \n",
       "Total Cashflows From Investing Activities -1.454500e+10 -4.289000e+09   \n",
       "Net Borrowings                             1.266500e+10  2.499000e+09   \n",
       "Total Cash From Financing Activities      -9.335300e+10 -8.682000e+10   \n",
       "Change To Operating Activities            -6.146000e+09  8.810000e+08   \n",
       "Issuance Of Stock                          1.105000e+09  8.800000e+08   \n",
       "Net Income                                 9.468000e+10  5.741100e+10   \n",
       "Change In Cash                            -3.860000e+09 -1.043500e+10   \n",
       "Repurchase Of Stock                       -9.252700e+10 -7.599200e+10   \n",
       "Total Cash From Operating Activities       1.040380e+11  8.067400e+10   \n",
       "Depreciation                               1.128400e+10  1.105600e+10   \n",
       "Other Cashflows From Investing Activities -6.080000e+08 -7.910000e+08   \n",
       "Dividends Paid                            -1.446700e+10 -1.408100e+10   \n",
       "Change To Inventory                       -2.642000e+09 -1.270000e+08   \n",
       "Change To Account Receivables             -1.012500e+10  6.917000e+09   \n",
       "Other Cashflows From Financing Activities -1.290000e+08 -1.260000e+08   \n",
       "Change To Netincome                        2.985000e+09  6.517000e+09   \n",
       "Capital Expenditures                      -1.108500e+10 -7.309000e+09   \n",
       "\n",
       "                                             2019-09-28    2018-09-29  \n",
       "Investments                                5.809300e+10  3.084500e+10  \n",
       "Change To Liabilities                     -2.548000e+09  9.172000e+09  \n",
       "Total Cashflows From Investing Activities  4.589600e+10  1.606600e+10  \n",
       "Net Borrowings                            -7.819000e+09  4.320000e+08  \n",
       "Total Cash From Financing Activities      -9.097600e+10 -8.787600e+10  \n",
       "Change To Operating Activities            -8.960000e+08  3.001600e+10  \n",
       "Issuance Of Stock                          7.810000e+08  6.690000e+08  \n",
       "Net Income                                 5.525600e+10  5.953100e+10  \n",
       "Change In Cash                             2.431100e+10  5.624000e+09  \n",
       "Repurchase Of Stock                       -6.971400e+10 -7.526500e+10  \n",
       "Total Cash From Operating Activities       6.939100e+10  7.743400e+10  \n",
       "Depreciation                               1.254700e+10  1.090300e+10  \n",
       "Other Cashflows From Investing Activities -1.078000e+09 -7.450000e+08  \n",
       "Dividends Paid                            -1.411900e+10 -1.371200e+10  \n",
       "Change To Inventory                       -2.890000e+08  8.280000e+08  \n",
       "Change To Account Receivables              2.450000e+08 -5.322000e+09  \n",
       "Other Cashflows From Financing Activities -1.050000e+08 -1.050000e+08  \n",
       "Change To Netincome                        5.076000e+09 -2.769400e+10  \n",
       "Capital Expenditures                      -1.049500e+10 -1.331300e+10  "
      ]
     },
     "execution_count": 2,
     "metadata": {},
     "output_type": "execute_result"
    }
   ],
   "source": [
    "ticker = \"aapl\"\n",
    "cashflow = yf.Ticker(ticker).cashflow\n",
    "cashflow"
   ]
  },
  {
   "cell_type": "code",
   "execution_count": 3,
   "metadata": {},
   "outputs": [
    {
     "data": {
      "text/html": [
       "<div>\n",
       "<style scoped>\n",
       "    .dataframe tbody tr th:only-of-type {\n",
       "        vertical-align: middle;\n",
       "    }\n",
       "\n",
       "    .dataframe tbody tr th {\n",
       "        vertical-align: top;\n",
       "    }\n",
       "\n",
       "    .dataframe thead th {\n",
       "        text-align: right;\n",
       "    }\n",
       "</style>\n",
       "<table border=\"1\" class=\"dataframe\">\n",
       "  <thead>\n",
       "    <tr style=\"text-align: right;\">\n",
       "      <th></th>\n",
       "      <th>2021-09-25</th>\n",
       "      <th>2020-09-26</th>\n",
       "      <th>2019-09-28</th>\n",
       "      <th>2018-09-29</th>\n",
       "    </tr>\n",
       "  </thead>\n",
       "  <tbody>\n",
       "    <tr>\n",
       "      <th>Research Development</th>\n",
       "      <td>21914000000.0</td>\n",
       "      <td>18752000000.0</td>\n",
       "      <td>16217000000.0</td>\n",
       "      <td>14236000000.0</td>\n",
       "    </tr>\n",
       "    <tr>\n",
       "      <th>Effect Of Accounting Charges</th>\n",
       "      <td>None</td>\n",
       "      <td>None</td>\n",
       "      <td>None</td>\n",
       "      <td>None</td>\n",
       "    </tr>\n",
       "    <tr>\n",
       "      <th>Income Before Tax</th>\n",
       "      <td>109207000000.0</td>\n",
       "      <td>67091000000.0</td>\n",
       "      <td>65737000000.0</td>\n",
       "      <td>72903000000.0</td>\n",
       "    </tr>\n",
       "    <tr>\n",
       "      <th>Minority Interest</th>\n",
       "      <td>None</td>\n",
       "      <td>None</td>\n",
       "      <td>None</td>\n",
       "      <td>None</td>\n",
       "    </tr>\n",
       "    <tr>\n",
       "      <th>Net Income</th>\n",
       "      <td>94680000000.0</td>\n",
       "      <td>57411000000.0</td>\n",
       "      <td>55256000000.0</td>\n",
       "      <td>59531000000.0</td>\n",
       "    </tr>\n",
       "    <tr>\n",
       "      <th>Selling General Administrative</th>\n",
       "      <td>21973000000.0</td>\n",
       "      <td>19916000000.0</td>\n",
       "      <td>18245000000.0</td>\n",
       "      <td>16705000000.0</td>\n",
       "    </tr>\n",
       "    <tr>\n",
       "      <th>Gross Profit</th>\n",
       "      <td>152836000000.0</td>\n",
       "      <td>104956000000.0</td>\n",
       "      <td>98392000000.0</td>\n",
       "      <td>101839000000.0</td>\n",
       "    </tr>\n",
       "    <tr>\n",
       "      <th>Ebit</th>\n",
       "      <td>108949000000.0</td>\n",
       "      <td>66288000000.0</td>\n",
       "      <td>63930000000.0</td>\n",
       "      <td>70898000000.0</td>\n",
       "    </tr>\n",
       "    <tr>\n",
       "      <th>Operating Income</th>\n",
       "      <td>108949000000.0</td>\n",
       "      <td>66288000000.0</td>\n",
       "      <td>63930000000.0</td>\n",
       "      <td>70898000000.0</td>\n",
       "    </tr>\n",
       "    <tr>\n",
       "      <th>Other Operating Expenses</th>\n",
       "      <td>None</td>\n",
       "      <td>None</td>\n",
       "      <td>None</td>\n",
       "      <td>None</td>\n",
       "    </tr>\n",
       "    <tr>\n",
       "      <th>Interest Expense</th>\n",
       "      <td>-2645000000.0</td>\n",
       "      <td>-2873000000.0</td>\n",
       "      <td>-3576000000.0</td>\n",
       "      <td>-3240000000.0</td>\n",
       "    </tr>\n",
       "    <tr>\n",
       "      <th>Extraordinary Items</th>\n",
       "      <td>None</td>\n",
       "      <td>None</td>\n",
       "      <td>None</td>\n",
       "      <td>None</td>\n",
       "    </tr>\n",
       "    <tr>\n",
       "      <th>Non Recurring</th>\n",
       "      <td>None</td>\n",
       "      <td>None</td>\n",
       "      <td>None</td>\n",
       "      <td>None</td>\n",
       "    </tr>\n",
       "    <tr>\n",
       "      <th>Other Items</th>\n",
       "      <td>None</td>\n",
       "      <td>None</td>\n",
       "      <td>None</td>\n",
       "      <td>None</td>\n",
       "    </tr>\n",
       "    <tr>\n",
       "      <th>Income Tax Expense</th>\n",
       "      <td>14527000000.0</td>\n",
       "      <td>9680000000.0</td>\n",
       "      <td>10481000000.0</td>\n",
       "      <td>13372000000.0</td>\n",
       "    </tr>\n",
       "    <tr>\n",
       "      <th>Total Revenue</th>\n",
       "      <td>365817000000.0</td>\n",
       "      <td>274515000000.0</td>\n",
       "      <td>260174000000.0</td>\n",
       "      <td>265595000000.0</td>\n",
       "    </tr>\n",
       "    <tr>\n",
       "      <th>Total Operating Expenses</th>\n",
       "      <td>256868000000.0</td>\n",
       "      <td>208227000000.0</td>\n",
       "      <td>196244000000.0</td>\n",
       "      <td>194697000000.0</td>\n",
       "    </tr>\n",
       "    <tr>\n",
       "      <th>Cost Of Revenue</th>\n",
       "      <td>212981000000.0</td>\n",
       "      <td>169559000000.0</td>\n",
       "      <td>161782000000.0</td>\n",
       "      <td>163756000000.0</td>\n",
       "    </tr>\n",
       "    <tr>\n",
       "      <th>Total Other Income Expense Net</th>\n",
       "      <td>258000000.0</td>\n",
       "      <td>803000000.0</td>\n",
       "      <td>1807000000.0</td>\n",
       "      <td>2005000000.0</td>\n",
       "    </tr>\n",
       "    <tr>\n",
       "      <th>Discontinued Operations</th>\n",
       "      <td>None</td>\n",
       "      <td>None</td>\n",
       "      <td>None</td>\n",
       "      <td>None</td>\n",
       "    </tr>\n",
       "    <tr>\n",
       "      <th>Net Income From Continuing Ops</th>\n",
       "      <td>94680000000.0</td>\n",
       "      <td>57411000000.0</td>\n",
       "      <td>55256000000.0</td>\n",
       "      <td>59531000000.0</td>\n",
       "    </tr>\n",
       "    <tr>\n",
       "      <th>Net Income Applicable To Common Shares</th>\n",
       "      <td>94680000000.0</td>\n",
       "      <td>57411000000.0</td>\n",
       "      <td>55256000000.0</td>\n",
       "      <td>59531000000.0</td>\n",
       "    </tr>\n",
       "  </tbody>\n",
       "</table>\n",
       "</div>"
      ],
      "text/plain": [
       "                                            2021-09-25      2020-09-26  \\\n",
       "Research Development                     21914000000.0   18752000000.0   \n",
       "Effect Of Accounting Charges                      None            None   \n",
       "Income Before Tax                       109207000000.0   67091000000.0   \n",
       "Minority Interest                                 None            None   \n",
       "Net Income                               94680000000.0   57411000000.0   \n",
       "Selling General Administrative           21973000000.0   19916000000.0   \n",
       "Gross Profit                            152836000000.0  104956000000.0   \n",
       "Ebit                                    108949000000.0   66288000000.0   \n",
       "Operating Income                        108949000000.0   66288000000.0   \n",
       "Other Operating Expenses                          None            None   \n",
       "Interest Expense                         -2645000000.0   -2873000000.0   \n",
       "Extraordinary Items                               None            None   \n",
       "Non Recurring                                     None            None   \n",
       "Other Items                                       None            None   \n",
       "Income Tax Expense                       14527000000.0    9680000000.0   \n",
       "Total Revenue                           365817000000.0  274515000000.0   \n",
       "Total Operating Expenses                256868000000.0  208227000000.0   \n",
       "Cost Of Revenue                         212981000000.0  169559000000.0   \n",
       "Total Other Income Expense Net             258000000.0     803000000.0   \n",
       "Discontinued Operations                           None            None   \n",
       "Net Income From Continuing Ops           94680000000.0   57411000000.0   \n",
       "Net Income Applicable To Common Shares   94680000000.0   57411000000.0   \n",
       "\n",
       "                                            2019-09-28      2018-09-29  \n",
       "Research Development                     16217000000.0   14236000000.0  \n",
       "Effect Of Accounting Charges                      None            None  \n",
       "Income Before Tax                        65737000000.0   72903000000.0  \n",
       "Minority Interest                                 None            None  \n",
       "Net Income                               55256000000.0   59531000000.0  \n",
       "Selling General Administrative           18245000000.0   16705000000.0  \n",
       "Gross Profit                             98392000000.0  101839000000.0  \n",
       "Ebit                                     63930000000.0   70898000000.0  \n",
       "Operating Income                         63930000000.0   70898000000.0  \n",
       "Other Operating Expenses                          None            None  \n",
       "Interest Expense                         -3576000000.0   -3240000000.0  \n",
       "Extraordinary Items                               None            None  \n",
       "Non Recurring                                     None            None  \n",
       "Other Items                                       None            None  \n",
       "Income Tax Expense                       10481000000.0   13372000000.0  \n",
       "Total Revenue                           260174000000.0  265595000000.0  \n",
       "Total Operating Expenses                196244000000.0  194697000000.0  \n",
       "Cost Of Revenue                         161782000000.0  163756000000.0  \n",
       "Total Other Income Expense Net            1807000000.0    2005000000.0  \n",
       "Discontinued Operations                           None            None  \n",
       "Net Income From Continuing Ops           55256000000.0   59531000000.0  \n",
       "Net Income Applicable To Common Shares   55256000000.0   59531000000.0  "
      ]
     },
     "execution_count": 3,
     "metadata": {},
     "output_type": "execute_result"
    }
   ],
   "source": [
    "yf.Ticker(ticker).financials"
   ]
  },
  {
   "cell_type": "code",
   "execution_count": 4,
   "metadata": {},
   "outputs": [
    {
     "data": {
      "text/html": [
       "<div>\n",
       "<style scoped>\n",
       "    .dataframe tbody tr th:only-of-type {\n",
       "        vertical-align: middle;\n",
       "    }\n",
       "\n",
       "    .dataframe tbody tr th {\n",
       "        vertical-align: top;\n",
       "    }\n",
       "\n",
       "    .dataframe thead th {\n",
       "        text-align: right;\n",
       "    }\n",
       "</style>\n",
       "<table border=\"1\" class=\"dataframe\">\n",
       "  <thead>\n",
       "    <tr style=\"text-align: right;\">\n",
       "      <th></th>\n",
       "      <th>2021-09-25</th>\n",
       "      <th>2020-09-26</th>\n",
       "      <th>2019-09-28</th>\n",
       "      <th>2018-09-29</th>\n",
       "    </tr>\n",
       "  </thead>\n",
       "  <tbody>\n",
       "    <tr>\n",
       "      <th>Total Liab</th>\n",
       "      <td>2.879120e+11</td>\n",
       "      <td>2.585490e+11</td>\n",
       "      <td>2.480280e+11</td>\n",
       "      <td>2.585780e+11</td>\n",
       "    </tr>\n",
       "    <tr>\n",
       "      <th>Total Stockholder Equity</th>\n",
       "      <td>6.309000e+10</td>\n",
       "      <td>6.533900e+10</td>\n",
       "      <td>9.048800e+10</td>\n",
       "      <td>1.071470e+11</td>\n",
       "    </tr>\n",
       "    <tr>\n",
       "      <th>Other Current Liab</th>\n",
       "      <td>5.357700e+10</td>\n",
       "      <td>4.786700e+10</td>\n",
       "      <td>4.324200e+10</td>\n",
       "      <td>3.929300e+10</td>\n",
       "    </tr>\n",
       "    <tr>\n",
       "      <th>Total Assets</th>\n",
       "      <td>3.510020e+11</td>\n",
       "      <td>3.238880e+11</td>\n",
       "      <td>3.385160e+11</td>\n",
       "      <td>3.657250e+11</td>\n",
       "    </tr>\n",
       "    <tr>\n",
       "      <th>Common Stock</th>\n",
       "      <td>5.736500e+10</td>\n",
       "      <td>5.077900e+10</td>\n",
       "      <td>4.517400e+10</td>\n",
       "      <td>4.020100e+10</td>\n",
       "    </tr>\n",
       "    <tr>\n",
       "      <th>Other Current Assets</th>\n",
       "      <td>1.411100e+10</td>\n",
       "      <td>1.126400e+10</td>\n",
       "      <td>1.235200e+10</td>\n",
       "      <td>1.208700e+10</td>\n",
       "    </tr>\n",
       "    <tr>\n",
       "      <th>Retained Earnings</th>\n",
       "      <td>5.562000e+09</td>\n",
       "      <td>1.496600e+10</td>\n",
       "      <td>4.589800e+10</td>\n",
       "      <td>7.040000e+10</td>\n",
       "    </tr>\n",
       "    <tr>\n",
       "      <th>Other Liab</th>\n",
       "      <td>4.305000e+10</td>\n",
       "      <td>4.610800e+10</td>\n",
       "      <td>5.050300e+10</td>\n",
       "      <td>4.891400e+10</td>\n",
       "    </tr>\n",
       "    <tr>\n",
       "      <th>Treasury Stock</th>\n",
       "      <td>1.630000e+08</td>\n",
       "      <td>-4.060000e+08</td>\n",
       "      <td>-5.840000e+08</td>\n",
       "      <td>-3.454000e+09</td>\n",
       "    </tr>\n",
       "    <tr>\n",
       "      <th>Other Assets</th>\n",
       "      <td>3.876200e+10</td>\n",
       "      <td>3.395200e+10</td>\n",
       "      <td>3.297800e+10</td>\n",
       "      <td>2.228300e+10</td>\n",
       "    </tr>\n",
       "    <tr>\n",
       "      <th>Cash</th>\n",
       "      <td>3.494000e+10</td>\n",
       "      <td>3.801600e+10</td>\n",
       "      <td>4.884400e+10</td>\n",
       "      <td>2.591300e+10</td>\n",
       "    </tr>\n",
       "    <tr>\n",
       "      <th>Total Current Liabilities</th>\n",
       "      <td>1.254810e+11</td>\n",
       "      <td>1.053920e+11</td>\n",
       "      <td>1.057180e+11</td>\n",
       "      <td>1.159290e+11</td>\n",
       "    </tr>\n",
       "    <tr>\n",
       "      <th>Short Long Term Debt</th>\n",
       "      <td>9.613000e+09</td>\n",
       "      <td>8.773000e+09</td>\n",
       "      <td>1.026000e+10</td>\n",
       "      <td>8.784000e+09</td>\n",
       "    </tr>\n",
       "    <tr>\n",
       "      <th>Other Stockholder Equity</th>\n",
       "      <td>1.630000e+08</td>\n",
       "      <td>-4.060000e+08</td>\n",
       "      <td>-5.840000e+08</td>\n",
       "      <td>-3.454000e+09</td>\n",
       "    </tr>\n",
       "    <tr>\n",
       "      <th>Property Plant Equipment</th>\n",
       "      <td>4.952700e+10</td>\n",
       "      <td>4.533600e+10</td>\n",
       "      <td>3.737800e+10</td>\n",
       "      <td>4.130400e+10</td>\n",
       "    </tr>\n",
       "    <tr>\n",
       "      <th>Total Current Assets</th>\n",
       "      <td>1.348360e+11</td>\n",
       "      <td>1.437130e+11</td>\n",
       "      <td>1.628190e+11</td>\n",
       "      <td>1.313390e+11</td>\n",
       "    </tr>\n",
       "    <tr>\n",
       "      <th>Long Term Investments</th>\n",
       "      <td>1.278770e+11</td>\n",
       "      <td>1.008870e+11</td>\n",
       "      <td>1.053410e+11</td>\n",
       "      <td>1.707990e+11</td>\n",
       "    </tr>\n",
       "    <tr>\n",
       "      <th>Net Tangible Assets</th>\n",
       "      <td>6.309000e+10</td>\n",
       "      <td>6.533900e+10</td>\n",
       "      <td>9.048800e+10</td>\n",
       "      <td>1.071470e+11</td>\n",
       "    </tr>\n",
       "    <tr>\n",
       "      <th>Short Term Investments</th>\n",
       "      <td>2.769900e+10</td>\n",
       "      <td>5.292700e+10</td>\n",
       "      <td>5.171300e+10</td>\n",
       "      <td>4.038800e+10</td>\n",
       "    </tr>\n",
       "    <tr>\n",
       "      <th>Net Receivables</th>\n",
       "      <td>5.150600e+10</td>\n",
       "      <td>3.744500e+10</td>\n",
       "      <td>4.580400e+10</td>\n",
       "      <td>4.899500e+10</td>\n",
       "    </tr>\n",
       "    <tr>\n",
       "      <th>Long Term Debt</th>\n",
       "      <td>1.091060e+11</td>\n",
       "      <td>9.866700e+10</td>\n",
       "      <td>9.180700e+10</td>\n",
       "      <td>9.373500e+10</td>\n",
       "    </tr>\n",
       "    <tr>\n",
       "      <th>Inventory</th>\n",
       "      <td>6.580000e+09</td>\n",
       "      <td>4.061000e+09</td>\n",
       "      <td>4.106000e+09</td>\n",
       "      <td>3.956000e+09</td>\n",
       "    </tr>\n",
       "    <tr>\n",
       "      <th>Accounts Payable</th>\n",
       "      <td>5.476300e+10</td>\n",
       "      <td>4.229600e+10</td>\n",
       "      <td>4.623600e+10</td>\n",
       "      <td>5.588800e+10</td>\n",
       "    </tr>\n",
       "  </tbody>\n",
       "</table>\n",
       "</div>"
      ],
      "text/plain": [
       "                             2021-09-25    2020-09-26    2019-09-28  \\\n",
       "Total Liab                 2.879120e+11  2.585490e+11  2.480280e+11   \n",
       "Total Stockholder Equity   6.309000e+10  6.533900e+10  9.048800e+10   \n",
       "Other Current Liab         5.357700e+10  4.786700e+10  4.324200e+10   \n",
       "Total Assets               3.510020e+11  3.238880e+11  3.385160e+11   \n",
       "Common Stock               5.736500e+10  5.077900e+10  4.517400e+10   \n",
       "Other Current Assets       1.411100e+10  1.126400e+10  1.235200e+10   \n",
       "Retained Earnings          5.562000e+09  1.496600e+10  4.589800e+10   \n",
       "Other Liab                 4.305000e+10  4.610800e+10  5.050300e+10   \n",
       "Treasury Stock             1.630000e+08 -4.060000e+08 -5.840000e+08   \n",
       "Other Assets               3.876200e+10  3.395200e+10  3.297800e+10   \n",
       "Cash                       3.494000e+10  3.801600e+10  4.884400e+10   \n",
       "Total Current Liabilities  1.254810e+11  1.053920e+11  1.057180e+11   \n",
       "Short Long Term Debt       9.613000e+09  8.773000e+09  1.026000e+10   \n",
       "Other Stockholder Equity   1.630000e+08 -4.060000e+08 -5.840000e+08   \n",
       "Property Plant Equipment   4.952700e+10  4.533600e+10  3.737800e+10   \n",
       "Total Current Assets       1.348360e+11  1.437130e+11  1.628190e+11   \n",
       "Long Term Investments      1.278770e+11  1.008870e+11  1.053410e+11   \n",
       "Net Tangible Assets        6.309000e+10  6.533900e+10  9.048800e+10   \n",
       "Short Term Investments     2.769900e+10  5.292700e+10  5.171300e+10   \n",
       "Net Receivables            5.150600e+10  3.744500e+10  4.580400e+10   \n",
       "Long Term Debt             1.091060e+11  9.866700e+10  9.180700e+10   \n",
       "Inventory                  6.580000e+09  4.061000e+09  4.106000e+09   \n",
       "Accounts Payable           5.476300e+10  4.229600e+10  4.623600e+10   \n",
       "\n",
       "                             2018-09-29  \n",
       "Total Liab                 2.585780e+11  \n",
       "Total Stockholder Equity   1.071470e+11  \n",
       "Other Current Liab         3.929300e+10  \n",
       "Total Assets               3.657250e+11  \n",
       "Common Stock               4.020100e+10  \n",
       "Other Current Assets       1.208700e+10  \n",
       "Retained Earnings          7.040000e+10  \n",
       "Other Liab                 4.891400e+10  \n",
       "Treasury Stock            -3.454000e+09  \n",
       "Other Assets               2.228300e+10  \n",
       "Cash                       2.591300e+10  \n",
       "Total Current Liabilities  1.159290e+11  \n",
       "Short Long Term Debt       8.784000e+09  \n",
       "Other Stockholder Equity  -3.454000e+09  \n",
       "Property Plant Equipment   4.130400e+10  \n",
       "Total Current Assets       1.313390e+11  \n",
       "Long Term Investments      1.707990e+11  \n",
       "Net Tangible Assets        1.071470e+11  \n",
       "Short Term Investments     4.038800e+10  \n",
       "Net Receivables            4.899500e+10  \n",
       "Long Term Debt             9.373500e+10  \n",
       "Inventory                  3.956000e+09  \n",
       "Accounts Payable           5.588800e+10  "
      ]
     },
     "execution_count": 4,
     "metadata": {},
     "output_type": "execute_result"
    }
   ],
   "source": [
    "yf.Ticker(ticker).balance_sheet"
   ]
  },
  {
   "cell_type": "code",
   "execution_count": 5,
   "metadata": {},
   "outputs": [
    {
     "data": {
      "text/plain": [
       "58896000000.0"
      ]
     },
     "execution_count": 5,
     "metadata": {},
     "output_type": "execute_result"
    }
   ],
   "source": [
    "cashflowStatements = []\n",
    "cashflow = yf.Ticker(ticker).cashflow\n",
    "freeCashFlow4 = float(cashflow.loc[\"Total Cash From Operating Activities\"][0]) + (cashflow.loc[\"Capital Expenditures\"][0])\n",
    "freeCashFlow3 = float(cashflow.loc[\"Total Cash From Operating Activities\"][1]) + (cashflow.loc[\"Capital Expenditures\"][1])\n",
    "freeCashFlow2 = float(cashflow.loc[\"Total Cash From Operating Activities\"][2]) + (cashflow.loc[\"Capital Expenditures\"][2])\n",
    "freeCashFlow1 = float(cashflow.loc[\"Total Cash From Operating Activities\"][3]) + (cashflow.loc[\"Capital Expenditures\"][3])\n",
    "freeCashFlow35 = float(freeCashFlow4 + freeCashFlow3)/ 2\n",
    "freeCashFlow25 = float(freeCashFlow3 + freeCashFlow2) / 2\n",
    "freeCashFlow15 = float(freeCashFlow2 + freeCashFlow1) / 2\n",
    "cashflowStatements.append(freeCashFlow4)\n",
    "cashflowStatements.append(freeCashFlow35)\n",
    "cashflowStatements.append(freeCashFlow3)\n",
    "cashflowStatements.append(freeCashFlow25)\n",
    "cashflowStatements.append(freeCashFlow2)\n",
    "cashflowStatements.append(freeCashFlow15)\n",
    "cashflowStatements.append(freeCashFlow1)\n",
    "years = [4.0,3.5,3.0,2.5,2.0,1.5,1.0]\n",
    "df = pd.DataFrame()\n",
    "df [ \"Cash Flow Statements\"] = cashflowStatements\n",
    "df [\" Years\"] = years\n",
    "y = df.iloc[:, 0].values\n",
    "X = df.iloc[:, 1].values\n",
    "X = X.reshape(len(X),1)\n",
    "y = y.reshape(len(y),1)\n",
    "freeCashFlow2\n"
   ]
  },
  {
   "cell_type": "code",
   "execution_count": 6,
   "metadata": {},
   "outputs": [
    {
     "data": {
      "text/html": [
       "<div>\n",
       "<style scoped>\n",
       "    .dataframe tbody tr th:only-of-type {\n",
       "        vertical-align: middle;\n",
       "    }\n",
       "\n",
       "    .dataframe tbody tr th {\n",
       "        vertical-align: top;\n",
       "    }\n",
       "\n",
       "    .dataframe thead th {\n",
       "        text-align: right;\n",
       "    }\n",
       "</style>\n",
       "<table border=\"1\" class=\"dataframe\">\n",
       "  <thead>\n",
       "    <tr style=\"text-align: right;\">\n",
       "      <th></th>\n",
       "      <th>Cash Flow Statements</th>\n",
       "      <th>Years</th>\n",
       "    </tr>\n",
       "  </thead>\n",
       "  <tbody>\n",
       "    <tr>\n",
       "      <th>0</th>\n",
       "      <td>9.295300e+10</td>\n",
       "      <td>4.0</td>\n",
       "    </tr>\n",
       "    <tr>\n",
       "      <th>1</th>\n",
       "      <td>8.315900e+10</td>\n",
       "      <td>3.5</td>\n",
       "    </tr>\n",
       "    <tr>\n",
       "      <th>2</th>\n",
       "      <td>7.336500e+10</td>\n",
       "      <td>3.0</td>\n",
       "    </tr>\n",
       "    <tr>\n",
       "      <th>3</th>\n",
       "      <td>6.613050e+10</td>\n",
       "      <td>2.5</td>\n",
       "    </tr>\n",
       "    <tr>\n",
       "      <th>4</th>\n",
       "      <td>5.889600e+10</td>\n",
       "      <td>2.0</td>\n",
       "    </tr>\n",
       "    <tr>\n",
       "      <th>5</th>\n",
       "      <td>6.150850e+10</td>\n",
       "      <td>1.5</td>\n",
       "    </tr>\n",
       "    <tr>\n",
       "      <th>6</th>\n",
       "      <td>6.412100e+10</td>\n",
       "      <td>1.0</td>\n",
       "    </tr>\n",
       "  </tbody>\n",
       "</table>\n",
       "</div>"
      ],
      "text/plain": [
       "   Cash Flow Statements   Years\n",
       "0          9.295300e+10     4.0\n",
       "1          8.315900e+10     3.5\n",
       "2          7.336500e+10     3.0\n",
       "3          6.613050e+10     2.5\n",
       "4          5.889600e+10     2.0\n",
       "5          6.150850e+10     1.5\n",
       "6          6.412100e+10     1.0"
      ]
     },
     "execution_count": 6,
     "metadata": {},
     "output_type": "execute_result"
    }
   ],
   "source": [
    "df = pd.DataFrame()\n",
    "df [ \"Cash Flow Statements\"] = cashflowStatements\n",
    "df [\" Years\"] = years\n",
    "df"
   ]
  },
  {
   "cell_type": "code",
   "execution_count": 7,
   "metadata": {},
   "outputs": [],
   "source": [
    "from sklearn.preprocessing import StandardScaler\n",
    "sc_X = StandardScaler()\n",
    "sc_y = StandardScaler()\n",
    "X = sc_X.fit_transform(X)\n",
    "y = sc_y.fit_transform(y)"
   ]
  },
  {
   "cell_type": "code",
   "execution_count": 8,
   "metadata": {},
   "outputs": [
    {
     "name": "stderr",
     "output_type": "stream",
     "text": [
      "/Users/shyamparikh/opt/anaconda3/lib/python3.9/site-packages/sklearn/utils/validation.py:63: DataConversionWarning: A column-vector y was passed when a 1d array was expected. Please change the shape of y to (n_samples, ), for example using ravel().\n",
      "  return f(*args, **kwargs)\n"
     ]
    },
    {
     "data": {
      "text/plain": [
       "SVR()"
      ]
     },
     "execution_count": 8,
     "metadata": {},
     "output_type": "execute_result"
    }
   ],
   "source": [
    "from sklearn.svm import SVR\n",
    "regressor = SVR(kernel = 'rbf')\n",
    "regressor.fit(X, y)"
   ]
  },
  {
   "cell_type": "code",
   "execution_count": 9,
   "metadata": {},
   "outputs": [
    {
     "data": {
      "text/plain": [
       "Text(0, 0.5, 'Free Cash Flow')"
      ]
     },
     "execution_count": 9,
     "metadata": {},
     "output_type": "execute_result"
    },
    {
     "data": {
      "image/png": "[encoded data removed]",
      "text/plain": [
       "<Figure size 432x288 with 1 Axes>"
      ]
     },
     "metadata": {
      "needs_background": "light"
     },
     "output_type": "display_data"
    }
   ],
   "source": [
    "##Based off of regression modeling of growth, we were able to determine that the best regression model of growth was Support Vector Regression \n",
    "fig = plt.scatter(sc_X.inverse_transform(X),sc_y.inverse_transform(y),color = 'red')\n",
    "fig = plt.plot(sc_X.inverse_transform(X), sc_y.inverse_transform(regressor.predict(X)), color = 'blue')\n",
    "plt.title('Free Cash Flow (SVR)')\n",
    "plt.xlabel('Years from 2016-2020')\n",
    "plt.ylabel('Free Cash Flow')"
   ]
  },
  {
   "cell_type": "code",
   "execution_count": 10,
   "metadata": {},
   "outputs": [
    {
     "data": {
      "text/plain": [
       "Text(0, 0.5, 'Free Cash Flow')"
      ]
     },
     "execution_count": 10,
     "metadata": {},
     "output_type": "execute_result"
    },
    {
     "data": {
      "image/png": "[encoded data removed]",
      "text/plain": [
       "<Figure size 432x288 with 1 Axes>"
      ]
     },
     "metadata": {
      "needs_background": "light"
     },
     "output_type": "display_data"
    }
   ],
   "source": [
    "X_grid = np.arange(min(sc_X.inverse_transform(X)), max(sc_X.inverse_transform(X)), 0.1)\n",
    "X_grid = X_grid.reshape((len(X_grid), 1))\n",
    "fig = plt.scatter(sc_X.inverse_transform(X),sc_y.inverse_transform(y),color = 'red')\n",
    "fig = plt.plot(X_grid, sc_y.inverse_transform(regressor.predict(sc_X.transform(X_grid))), color = 'blue')\n",
    "plt.title('       Free Cash Flow (Support Vector Regression) of '+ ticker)\n",
    "plt.xlabel('Years from 2016-2020')\n",
    "plt.ylabel('Free Cash Flow')"
   ]
  },
  {
   "cell_type": "code",
   "execution_count": 11,
   "metadata": {},
   "outputs": [
    {
     "data": {
      "text/plain": [
       "array([8.50230493e+10])"
      ]
     },
     "execution_count": 11,
     "metadata": {},
     "output_type": "execute_result"
    }
   ],
   "source": [
    "sc_y.inverse_transform(regressor.predict(sc_X.transform([[4]])))"
   ]
  },
  {
   "cell_type": "code",
   "execution_count": 12,
   "metadata": {},
   "outputs": [
    {
     "data": {
      "text/plain": [
       "0.9269913792112401"
      ]
     },
     "execution_count": 12,
     "metadata": {},
     "output_type": "execute_result"
    }
   ],
   "source": [
    "from sklearn.metrics import r2_score\n",
    "svrr2 = r2_score(sc_y.inverse_transform(y), sc_y.inverse_transform(regressor.predict(X)))\n",
    "svrr2"
   ]
  },
  {
   "cell_type": "code",
   "execution_count": 13,
   "metadata": {},
   "outputs": [
    {
     "data": {
      "text/plain": [
       "1.0"
      ]
     },
     "execution_count": 13,
     "metadata": {},
     "output_type": "execute_result"
    }
   ],
   "source": [
    "##Decision Tree Regression will be disregarded because it gave a regression of equal to 1. \n",
    "from sklearn.tree import DecisionTreeRegressor\n",
    "regressor = DecisionTreeRegressor(random_state = 0)\n",
    "regressor.fit(X, y)\n",
    "dtr2 = r2_score(sc_y.inverse_transform(y), sc_y.inverse_transform(regressor.predict(X)))\n",
    "dtr2"
   ]
  },
  {
   "cell_type": "code",
   "execution_count": 14,
   "metadata": {},
   "outputs": [
    {
     "name": "stderr",
     "output_type": "stream",
     "text": [
      "/var/folders/6m/f_ggljg557xf775dl4rrgffr0000gn/T/ipykernel_36780/3042227547.py:3: DataConversionWarning: A column-vector y was passed when a 1d array was expected. Please change the shape of y to (n_samples,), for example using ravel().\n",
      "  regressor.fit(X, y)\n"
     ]
    },
    {
     "data": {
      "text/plain": [
       "0.9572328824408801"
      ]
     },
     "execution_count": 14,
     "metadata": {},
     "output_type": "execute_result"
    }
   ],
   "source": [
    "from sklearn.ensemble import RandomForestRegressor\n",
    "regressor = RandomForestRegressor(n_estimators = 10, random_state = 0)\n",
    "regressor.fit(X, y)\n",
    "rfr2 = r2_score(sc_y.inverse_transform(y),sc_y.inverse_transform(regressor.predict(X)))\n",
    "rfr2"
   ]
  },
  {
   "cell_type": "code",
   "execution_count": 15,
   "metadata": {},
   "outputs": [
    {
     "data": {
      "text/plain": [
       "0.9944835715111076"
      ]
     },
     "execution_count": 15,
     "metadata": {},
     "output_type": "execute_result"
    }
   ],
   "source": [
    "from sklearn.linear_model import LinearRegression\n",
    "lin_reg = LinearRegression()\n",
    "lin_reg.fit(X, y)\n",
    "from sklearn.preprocessing import PolynomialFeatures\n",
    "poly_reg = PolynomialFeatures(degree = 4)\n",
    "X_poly = poly_reg.fit_transform(X)\n",
    "lin_reg_2 = LinearRegression()\n",
    "lin_reg_2.fit(X_poly, y)\n",
    "pr2 = r2_score(y,lin_reg_2.predict(poly_reg.fit_transform(X)))\n",
    "pr2"
   ]
  },
  {
   "cell_type": "code",
   "execution_count": 16,
   "metadata": {},
   "outputs": [
    {
     "data": {
      "image/png": "[encoded data removed]",
      "text/plain": [
       "<Figure size 432x288 with 1 Axes>"
      ]
     },
     "metadata": {
      "needs_background": "light"
     },
     "output_type": "display_data"
    }
   ],
   "source": [
    "plt.scatter(X, y, color = 'red')\n",
    "plt.plot(X, lin_reg_2.predict(poly_reg.fit_transform(X)), color = 'blue')\n",
    "plt.title('Truth or Bluff (Polynomial Regression)')\n",
    "plt.xlabel('Position level')\n",
    "plt.ylabel('Salary')\n",
    "plt.show()"
   ]
  },
  {
   "cell_type": "code",
   "execution_count": 17,
   "metadata": {},
   "outputs": [
    {
     "data": {
      "image/png": "[encoded data removed]",
      "text/plain": [
       "<Figure size 432x288 with 1 Axes>"
      ]
     },
     "metadata": {
      "needs_background": "light"
     },
     "output_type": "display_data"
    }
   ],
   "source": [
    "X_grid = np.arange(min(X), max(X), 0.1)\n",
    "X_grid = X_grid.reshape((len(X_grid), 1))\n",
    "plt.scatter(X, y, color = 'red')\n",
    "plt.plot(X_grid, lin_reg_2.predict(poly_reg.fit_transform(X_grid)), color = 'blue')\n",
    "plt.title('Truth or Bluff (Polynomial Regression)')\n",
    "plt.xlabel('Position level')\n",
    "plt.ylabel('Salary')\n",
    "plt.show()"
   ]
  },
  {
   "cell_type": "code",
   "execution_count": 18,
   "metadata": {},
   "outputs": [
    {
     "name": "stdout",
     "output_type": "stream",
     "text": [
      "0.9907026117511721\n",
      "0.880513990067158\n",
      "0.7643459754493194\n"
     ]
    },
    {
     "name": "stderr",
     "output_type": "stream",
     "text": [
      "/var/folders/6m/f_ggljg557xf775dl4rrgffr0000gn/T/ipykernel_36780/551387818.py:44: DataConversionWarning: A column-vector y was passed when a 1d array was expected. Please change the shape of y to (n_samples,), for example using ravel().\n",
      "  regressor.fit(X, abs(y))\n",
      "/Users/shyamparikh/opt/anaconda3/lib/python3.9/site-packages/sklearn/utils/validation.py:63: DataConversionWarning: A column-vector y was passed when a 1d array was expected. Please change the shape of y to (n_samples, ), for example using ravel().\n",
      "  return f(*args, **kwargs)\n"
     ]
    },
    {
     "data": {
      "image/png": "[encoded data removed]",
      "text/plain": [
       "<Figure size 432x288 with 1 Axes>"
      ]
     },
     "metadata": {
      "needs_background": "light"
     },
     "output_type": "display_data"
    },
    {
     "name": "stdout",
     "output_type": "stream",
     "text": [
      "0.9907026117511721\n",
      "-23956733766.24247\n"
     ]
    }
   ],
   "source": [
    "ticker = \"NVDA\"\n",
    "cashflowStatements = []\n",
    "cashflow = yf.Ticker(ticker).cashflow\n",
    "freeCashFlow4 = float(cashflow.loc[\"Total Cash From Operating Activities\"][0]) + (cashflow.loc[\"Capital Expenditures\"][0])\n",
    "freeCashFlow3 = float(cashflow.loc[\"Total Cash From Operating Activities\"][1]) + (cashflow.loc[\"Capital Expenditures\"][1])\n",
    "freeCashFlow2 = float(cashflow.loc[\"Total Cash From Operating Activities\"][2]) + (cashflow.loc[\"Capital Expenditures\"][2])\n",
    "freeCashFlow1 = float(cashflow.loc[\"Total Cash From Operating Activities\"][3]) + (cashflow.loc[\"Capital Expenditures\"][3])\n",
    "freeCashFlow35 = float(freeCashFlow4 + freeCashFlow3)/ 2\n",
    "freeCashFlow25 = float(freeCashFlow3 + freeCashFlow2) / 2\n",
    "freeCashFlow15 = float(freeCashFlow2 + freeCashFlow1) / 2\n",
    "cashflowStatements.append(freeCashFlow4)\n",
    "cashflowStatements.append(freeCashFlow35)\n",
    "cashflowStatements.append(freeCashFlow3)\n",
    "cashflowStatements.append(freeCashFlow25)\n",
    "cashflowStatements.append(freeCashFlow2)\n",
    "cashflowStatements.append(freeCashFlow15)\n",
    "cashflowStatements.append(freeCashFlow1)\n",
    "years = [4.0,3.5,3.0,2.5,2.0,1.5,1.0]\n",
    "df = pd.DataFrame()\n",
    "df [ \"Cash Flow Statements\"] = cashflowStatements\n",
    "df [\" Years\"] = years\n",
    "y = df.iloc[:, 0].values\n",
    "X = df.iloc[:, 1].values\n",
    "X = X.reshape(len(X),1)\n",
    "y = y.reshape(len(y),1)\n",
    "forecast = []\n",
    "from sklearn.linear_model import LinearRegression\n",
    "lin_reg = LinearRegression()\n",
    "lin_reg.fit(X, abs(y))\n",
    "from sklearn.preprocessing import PolynomialFeatures\n",
    "poly_reg = PolynomialFeatures(degree = 4)\n",
    "X_poly = poly_reg.fit_transform(X)\n",
    "lin_reg_2 = LinearRegression()\n",
    "lin_reg_2.fit(X_poly, abs(y))\n",
    "pr2 = r2_score(abs(y),lin_reg_2.predict(poly_reg.fit_transform(X)))\n",
    "print(pr2)\n",
    "from sklearn.preprocessing import StandardScaler\n",
    "sc_X = StandardScaler()\n",
    "sc_y = StandardScaler()\n",
    "X = sc_X.fit_transform(X)\n",
    "y = sc_y.fit_transform(y)\n",
    "from sklearn.ensemble import RandomForestRegressor\n",
    "regressor = RandomForestRegressor(n_estimators = 10, random_state = 0)\n",
    "regressor.fit(X, abs(y))\n",
    "rfr2 = r2_score(sc_y.inverse_transform(abs(y)),sc_y.inverse_transform(regressor.predict(X)))\n",
    "print(rfr2)\n",
    "from sklearn.preprocessing import StandardScaler\n",
    "sc_X = StandardScaler()\n",
    "sc_y = StandardScaler()\n",
    "X = sc_X.fit_transform(X)\n",
    "y = sc_y.fit_transform(y)\n",
    "from sklearn.svm import SVR\n",
    "regressor = SVR(kernel = 'rbf')\n",
    "regressor.fit(X, abs(y))\n",
    "from sklearn.metrics import r2_score\n",
    "svrr2 = r2_score(sc_y.inverse_transform(abs(y)), sc_y.inverse_transform(regressor.predict(X)))\n",
    "print(svrr2)\n",
    "y = df.iloc[:, 0].values\n",
    "X = df.iloc[:, 1].values\n",
    "X = X.reshape(len(X),1)\n",
    "y = y.reshape(len(y),1)\n",
    "try:\n",
    "    if(pr2 > rfr2 and pr2 > svrr2):\n",
    "        from sklearn.linear_model import LinearRegression\n",
    "        lin_reg = LinearRegression()\n",
    "        lin_reg.fit(X, (y))\n",
    "        from sklearn.preprocessing import PolynomialFeatures\n",
    "        poly_reg = PolynomialFeatures(degree = 4)\n",
    "        X_poly = poly_reg.fit_transform(X)\n",
    "        lin_reg_2 = LinearRegression()\n",
    "        lin_reg_2.fit(X_poly, (y))\n",
    "        pr2 = r2_score((y),lin_reg_2.predict(poly_reg.fit_transform(X)))\n",
    "        #forecast.append(abs(lin_reg_2.predict(poly_reg.fit_transform([[4.5]]))))\n",
    "        forecast.append((lin_reg_2.predict(poly_reg.fit_transform([[5.0]]))))\n",
    "        #forecast.append(abs(lin_reg_2.predict(poly_reg.fit_transform([[5.5]]))))\n",
    "        forecast.append((lin_reg_2.predict(poly_reg.fit_transform([[6.0]]))))\n",
    "        #forecast.append(abs(lin_reg_2.predict(poly_reg.fit_transform([[6.5]]))))\n",
    "        forecast.append((lin_reg_2.predict(poly_reg.fit_transform([[7.0]]))))\n",
    "        #forecast.append(abs(lin_reg_2.predict(poly_reg.fit_transform([[7.5]]))))\n",
    "        forecast.append((lin_reg_2.predict(poly_reg.fit_transform([[8.0]]))))\n",
    "        X_grid = np.arange(min(X), max(X), 0.1)\n",
    "        X_grid = X_grid.reshape((len(X_grid), 1))\n",
    "        plt.scatter(X, y, color = 'red')\n",
    "        plt.plot(X_grid, lin_reg_2.predict(poly_reg.fit_transform(X_grid)), color = 'blue')\n",
    "        plt.title('Free Cash Flow (Polynomial Regression) of '+ ticker)\n",
    "        plt.xlabel('Years from 2016-2020')\n",
    "        plt.ylabel('Free Cash Flow')\n",
    "        plt.show()\n",
    "        print(pr2)\n",
    "    elif(rfr2 > pr2 and rfr2 > svrr2): \n",
    "        from sklearn.preprocessing import StandardScaler\n",
    "        sc_X = StandardScaler()\n",
    "        sc_y = StandardScaler()\n",
    "        X = sc_X.fit_transform(X)\n",
    "        y = sc_y.fit_transform(y)\n",
    "        from sklearn.ensemble import RandomForestRegressor\n",
    "        regressor = RandomForestRegressor(n_estimators = 10, random_state = 0)\n",
    "        regressor.fit(X, y)\n",
    "        rfr2 = r2_score(sc_y.inverse_transform(y),sc_y.inverse_transform(regressor.predict(X)))\n",
    "        rfr2\n",
    "        #forecast.append(abs(regressor.predict([[4.5]])))\n",
    "        forecast.append((regressor.predict([[5.0]])))\n",
    "        #forecast.append(abs(regressor.predict([[5.5]])))\n",
    "        forecast.append((regressor.predict([[6.0]])))\n",
    "        #forecast.append(abs(regressor.predict([[6.5]])))\n",
    "        forecast.append((regressor.predict([[7.0]])))\n",
    "        #forecast.append(abs(regressor.predict([[7.5]])))\n",
    "        forecast.append((regressor.predict([[8.0]])))\n",
    "        X_grid = np.arange(min(X), max(X), 0.01)\n",
    "        X_grid = X_grid.reshape((len(X_grid), 1))\n",
    "        plt.scatter(X, y, color = 'red')\n",
    "        plt.plot(X_grid, regressor.predict(X_grid), color = 'blue')\n",
    "        plt.title('Free Cash Flow (Random Forest Regression) of '+ ticker)\n",
    "        plt.xlabel('Years from 2016-2020')\n",
    "        plt.ylabel('Free Cash Flow')\n",
    "        plt.show()\n",
    "        print(rfr2)\n",
    "    elif(svrr2 > pr2 and svrr2 > rfr2):\n",
    "        from sklearn.preprocessing import StandardScaler\n",
    "        sc_X = StandardScaler()\n",
    "        sc_y = StandardScaler()\n",
    "        X = sc_X.fit_transform(X)\n",
    "        y = sc_y.fit_transform(y)\n",
    "        from sklearn.svm import SVR\n",
    "        regressor = SVR(kernel = 'rbf')\n",
    "        regressor.fit(X, y)\n",
    "        from sklearn.metrics import r2_score\n",
    "        svrr2 = r2_score(sc_y.inverse_transform(y), sc_y.inverse_transform(regressor.predict(X)))\n",
    "        svrr2\n",
    "        #forecast.append(abs(sc_y.inverse_transform(regressor.predict(sc_X.transform([[4.5]])))))\n",
    "        forecast.append((sc_y.inverse_transform(regressor.predict(sc_X.transform([[5.0]])))))\n",
    "        #forecast.append(abs(sc_y.inverse_transform(regressor.predict(sc_X.transform([[5.5]])))))\n",
    "        forecast.append((sc_y.inverse_transform(regressor.predict(sc_X.transform([[6.0]])))))\n",
    "        #forecast.append(abs(sc_y.inverse_transform(regressor.predict(sc_X.transform([[6.5]])))))\n",
    "        forecast.append((sc_y.inverse_transform(regressor.predict(sc_X.transform([[7.0]])))))\n",
    "        #forecast.append(abs(sc_y.inverse_transform(regressor.predict(sc_X.transform([[7.5]])))))\n",
    "        forecast.append((sc_y.inverse_transform(regressor.predict(sc_X.transform([[8.0]])))))\n",
    "        X_grid = np.arange(min(sc_X.inverse_transform(X)), max(sc_X.inverse_transform(X)), 0.1)\n",
    "        X_grid = X_grid.reshape((len(X_grid), 1))\n",
    "        fig = plt.scatter(sc_X.inverse_transform(X),sc_y.inverse_transform(y),color = 'red')\n",
    "        fig = plt.plot(X_grid, sc_y.inverse_transform(regressor.predict(sc_X.transform(X_grid))), color = 'blue')\n",
    "        plt.title('Free Cash Flow (SVR) of '+ ticker)\n",
    "        plt.xlabel('Years from 2016-2020')\n",
    "        plt.ylabel('Free Cash Flow')\n",
    "        print(svrr2)\n",
    "    print(float(forecast[3]))\n",
    "\n",
    "except:\n",
    "    print(\"This company has negative cash flows, or is a recent startup. This is too risky of a company to invest in. \")\n",
    "\n",
    "\n"
   ]
  },
  {
   "cell_type": "code",
   "execution_count": 19,
   "metadata": {},
   "outputs": [
    {
     "name": "stdout",
     "output_type": "stream",
     "text": [
      "-21420845270.908634\n",
      "259.6600036621094\n",
      "The valuation is equal to $ 183.4269881544713 . Since the stock price is above the intrinsic value, it is not a good idea to invest in it. \n"
     ]
    }
   ],
   "source": [
    "#TYPICALLY, THE DISCOUNT RATE IS SETUP BETWEEN 6 AND 12 PERCENT. THEREFORE, THE DISCOUNT RATE WILL BE SET TO 9%.\n",
    "dr = 0.09\n",
    "count = float(0)\n",
    "totalFreeCashFlow = float(0)\n",
    "for t in range(len(forecast)):\n",
    "    val1 = (forecast[t] / pow((1+dr),t+1))\n",
    "    totalFreeCashFlow += forecast[t]\n",
    "    count += val1\n",
    "count = count[0][0]\n",
    "print(count)\n",
    "totalFreeCashFlow = totalFreeCashFlow[0][0]\n",
    "yf.Ticker(ticker[0])\n",
    "roi = 1 - (count/totalFreeCashFlow)\n",
    "percentGrowth = ((forecast[3]-forecast[0])/ forecast[0]*4)\n",
    "totalPercentGrowth= ((10/4) * (percentGrowth**10)) ** (1/10)\n",
    "intrinsicValue = totalPercentGrowth * forecast[0]\n",
    "stock = yf.Ticker(ticker)\n",
    "lastDay= stock.history(period=\"1d\")\n",
    "lastDay = lastDay['Close'][0]\n",
    "print(lastDay)\n",
    "intrinsicVal  = float(lastDay - (lastDay * roi))\n",
    "intrinsicVal\n",
    "\n",
    "print(\"The valuation is equal to $\" , intrinsicVal , \". Since the stock price is above the intrinsic value, it is not a good idea to invest in it. \")\n"
   ]
  },
  {
   "cell_type": "code",
   "execution_count": 20,
   "metadata": {},
   "outputs": [
    {
     "name": "stdout",
     "output_type": "stream",
     "text": [
      "125.27\n"
     ]
    }
   ],
   "source": [
    "def findStockTicker(ticker):\n",
    "    stock = yf.Ticker(ticker)\n",
    "    lastDay= stock.history(period=\"1d\")\n",
    "    lastDay = lastDay['Close'][0]\n",
    "    lastDay = round(lastDay, 2)\n",
    "    return lastDay\n",
    "ticker1 = \"BABA\"\n",
    "print(findStockTicker(ticker1))\n"
   ]
  },
  {
   "cell_type": "code",
   "execution_count": 21,
   "metadata": {},
   "outputs": [
    {
     "name": "stdout",
     "output_type": "stream",
     "text": [
      "31\n",
      "242.67\n"
     ]
    }
   ],
   "source": [
    "def calcIV(ticker):\n",
    "    newArray = []\n",
    "    stock = yf.Ticker(ticker)\n",
    "    minimum = stock.history(period = \"ytd\")\n",
    "    print(len(minimum['Close']))\n",
    "    for count in range(int(len(minimum['Close'])/12)):\n",
    "        newArray.append(minimum['Close'][(-1*(count+1))])\n",
    "    val = min(newArray)\n",
    "    val = round(val,2)\n",
    "    #minimum = min(minimum['Close'])\n",
    "    #minimum = round(lastDay,2)\n",
    "\n",
    "    return val\n",
    "ticker1 = \"nvda\"\n",
    "print(calcIV(ticker1))"
   ]
  },
  {
   "cell_type": "code",
   "execution_count": 36,
   "metadata": {},
   "outputs": [
    {
     "name": "stderr",
     "output_type": "stream",
     "text": [
      "/var/folders/6m/f_ggljg557xf775dl4rrgffr0000gn/T/ipykernel_36780/1710638411.py:45: DataConversionWarning: A column-vector y was passed when a 1d array was expected. Please change the shape of y to (n_samples,), for example using ravel().\n",
      "  regressor.fit(X, (y))\n",
      "/Users/shyamparikh/opt/anaconda3/lib/python3.9/site-packages/sklearn/utils/validation.py:63: DataConversionWarning: A column-vector y was passed when a 1d array was expected. Please change the shape of y to (n_samples, ), for example using ravel().\n",
      "  return f(*args, **kwargs)\n"
     ]
    },
    {
     "data": {
      "image/png": "[encoded data removed]",
      "text/plain": [
       "<Figure size 432x288 with 1 Axes>"
      ]
     },
     "metadata": {
      "needs_background": "light"
     },
     "output_type": "display_data"
    },
    {
     "name": "stdout",
     "output_type": "stream",
     "text": [
      "-397999726353.8712\n",
      "[array([[8.16045599e+10]]), array([[9.24206318e+09]]), array([[3.12565453e+10]]), array([[4.6632779e+10]]), 251571570665.06244]\n",
      "[[4.62332223e+12]]\n",
      "[283.3, 'This stock has positive cash flows and you should consider investing in it if it is below the intrinsic value', -6333643789873.344]\n"
     ]
    }
   ],
   "source": [
    "def intrinsicValue(ticker):\n",
    "    cashflowStatements = []\n",
    "    cashflow = yf.Ticker(ticker).cashflow\n",
    "    freeCashFlow4 = float(cashflow.loc[\"Total Cash From Operating Activities\"][0]) + (cashflow.loc[\"Capital Expenditures\"][0])\n",
    "    freeCashFlow3 = float(cashflow.loc[\"Total Cash From Operating Activities\"][1]) + (cashflow.loc[\"Capital Expenditures\"][1])\n",
    "    freeCashFlow2 = float(cashflow.loc[\"Total Cash From Operating Activities\"][2]) + (cashflow.loc[\"Capital Expenditures\"][2])\n",
    "    freeCashFlow1 = float(cashflow.loc[\"Total Cash From Operating Activities\"][3]) + (cashflow.loc[\"Capital Expenditures\"][3])\n",
    "    freeCashFlow35 = float(freeCashFlow4 + freeCashFlow3)/ 2\n",
    "    freeCashFlow25 = float(freeCashFlow3 + freeCashFlow2) / 2\n",
    "    freeCashFlow15 = float(freeCashFlow2 + freeCashFlow1) / 2\n",
    "    cashflowStatements.append(freeCashFlow4)\n",
    "    cashflowStatements.append(freeCashFlow35)\n",
    "    cashflowStatements.append(freeCashFlow3)\n",
    "    cashflowStatements.append(freeCashFlow25)\n",
    "    cashflowStatements.append(freeCashFlow2)\n",
    "    cashflowStatements.append(freeCashFlow15)\n",
    "    cashflowStatements.append(freeCashFlow1)\n",
    "    years = [4.0,3.5,3.0,2.5,2.0,1.5,1.0]\n",
    "    df = pd.DataFrame()\n",
    "    df [ \"Cash Flow Statements\"] = cashflowStatements\n",
    "    df [\" Years\"] = years\n",
    "    y = df.iloc[:, 0].values\n",
    "    X = df.iloc[:, 1].values\n",
    "    X = X.reshape(len(X),1)\n",
    "    y = y.reshape(len(y),1)\n",
    "    forecast = []\n",
    "    try:\n",
    "        from sklearn.linear_model import LinearRegression\n",
    "        lin_reg = LinearRegression()\n",
    "        lin_reg.fit(X, (y))\n",
    "        from sklearn.preprocessing import PolynomialFeatures\n",
    "        poly_reg = PolynomialFeatures(degree = 4)\n",
    "        X_poly = poly_reg.fit_transform(X)\n",
    "        lin_reg_2 = LinearRegression()\n",
    "        lin_reg_2.fit(X_poly, abs(y))\n",
    "        from sklearn.metrics import r2_score\n",
    "        pr2 = r2_score(abs(y),lin_reg_2.predict(poly_reg.fit_transform(X)))\n",
    "        from sklearn.preprocessing import StandardScaler\n",
    "        sc_X = StandardScaler()\n",
    "        sc_y = StandardScaler()\n",
    "        X = sc_X.fit_transform(X)\n",
    "        y = sc_y.fit_transform(y)\n",
    "        from sklearn.ensemble import RandomForestRegressor\n",
    "        regressor = RandomForestRegressor(n_estimators = 10, random_state = 0)\n",
    "        regressor.fit(X, (y))\n",
    "        rfr2 = r2_score(sc_y.inverse_transform((y)),sc_y.inverse_transform(regressor.predict(X)))\n",
    "        from sklearn.preprocessing import StandardScaler\n",
    "        sc_X = StandardScaler()\n",
    "        sc_y = StandardScaler()\n",
    "        X = sc_X.fit_transform(X)\n",
    "        y = sc_y.fit_transform(y)\n",
    "        from sklearn.svm import SVR\n",
    "        regressor = SVR(kernel = 'rbf')\n",
    "        regressor.fit(X, (y))\n",
    "        svrr2 = r2_score(sc_y.inverse_transform((y)), sc_y.inverse_transform(regressor.predict(X)))\n",
    "        #print(svrr2)\n",
    "        y = df.iloc[:, 0].values\n",
    "        X = df.iloc[:, 1].values\n",
    "        X = X.reshape(len(X),1)\n",
    "        y = y.reshape(len(y),1)\n",
    "        value = int(1)\n",
    "        dne = str(\"\")\n",
    "        if(pr2 > rfr2 and pr2 > svrr2):\n",
    "            from sklearn.linear_model import LinearRegression\n",
    "            lin_reg = LinearRegression()\n",
    "            lin_reg.fit(X, (y))\n",
    "            from sklearn.preprocessing import PolynomialFeatures\n",
    "            poly_reg = PolynomialFeatures(degree = 4)\n",
    "            X_poly = poly_reg.fit_transform(X)\n",
    "            lin_reg_2 = LinearRegression()\n",
    "            lin_reg_2.fit(X_poly, (y))\n",
    "            pr2 = r2_score((y),lin_reg_2.predict(poly_reg.fit_transform(X)))\n",
    "            #forecast.append(abs(lin_reg_2.predict(poly_reg.fit_transform([[4.5]]))))\n",
    "            forecast.append((lin_reg_2.predict(poly_reg.fit_transform([[5.0]]))))\n",
    "            #forecast.append(abs(lin_reg_2.predict(poly_reg.fit_transform([[5.5]]))))\n",
    "            forecast.append((lin_reg_2.predict(poly_reg.fit_transform([[6.0]]))))\n",
    "            #forecast.append(abs(lin_reg_2.predict(poly_reg.fit_transform([[6.5]]))))\n",
    "            forecast.append((lin_reg_2.predict(poly_reg.fit_transform([[7.0]]))))\n",
    "            #forecast.append(abs(lin_reg_2.predict(poly_reg.fit_transform([[7.5]]))))\n",
    "            forecast.append((lin_reg_2.predict(poly_reg.fit_transform([[8.0]]))))\n",
    "            X_grid = np.arange(min(X), max(X), 0.1)\n",
    "            X_grid = X_grid.reshape((len(X_grid), 1))\n",
    "            plt.scatter(X, (y), color = 'red')\n",
    "            plt.plot(X_grid, (lin_reg_2.predict(poly_reg.fit_transform(X_grid))), color = 'blue')\n",
    "            plt.title('Free Cash Flow (Polynomial Regression) of '+ ticker)\n",
    "            plt.xlabel('Years from 2016-2020')\n",
    "            plt.ylabel('Free Cash Flow')\n",
    "            plt.show()\n",
    "        elif(rfr2 > pr2 and rfr2 > svrr2): \n",
    "            from sklearn.preprocessing import StandardScaler\n",
    "            sc_X = StandardScaler()\n",
    "            sc_y = StandardScaler()\n",
    "            X = sc_X.fit_transform(X)\n",
    "            y = sc_y.fit_transform(y)\n",
    "            from sklearn.ensemble import RandomForestRegressor\n",
    "            regressor = RandomForestRegressor(n_estimators = 10, random_state = 0)\n",
    "            regressor.fit(X, y)\n",
    "            rfr2 = r2_score(sc_y.inverse_transform(y),sc_y.inverse_transform(regressor.predict(X)))\n",
    "            #forecast.append(abs(regressor.predict([[4.5]])))\n",
    "            forecast.append((regressor.predict([[5.0]])))\n",
    "            #forecast.append(abs(regressor.predict([[5.5]])))\n",
    "            forecast.append((regressor.predict([[6.0]])))\n",
    "            #forecast.append(abs(regressor.predict([[6.5]])))\n",
    "            forecast.append((regressor.predict([[7.0]])))\n",
    "            #forecast.append(abs(regressor.predict([[7.5]])))\n",
    "            forecast.append((regressor.predict([[8.0]])))\n",
    "            X_grid = np.arange(min(X), max(X), 0.01)\n",
    "            X_grid = X_grid.reshape((len(X_grid), 1))\n",
    "            plt.scatter(X, y, color = 'red')\n",
    "            plt.plot(X_grid, regressor.predict(X_grid), color = 'blue')\n",
    "            plt.title('Free Cash Flow (Random Forest Regression) of '+ ticker)\n",
    "            plt.xlabel('Years from 2016-2020')\n",
    "            plt.ylabel('Free Cash Flow')\n",
    "            plt.show()\n",
    "        elif(svrr2 > pr2 and svrr2 > rfr2):\n",
    "            from sklearn.preprocessing import StandardScaler\n",
    "            sc_X = StandardScaler()\n",
    "            sc_y = StandardScaler()\n",
    "            X = sc_X.fit_transform(X)\n",
    "            y = sc_y.fit_transform(y)\n",
    "            from sklearn.svm import SVR\n",
    "            regressor = SVR(kernel = 'rbf')\n",
    "            regressor.fit(X, y)\n",
    "            from sklearn.metrics import r2_score\n",
    "            svrr2 = r2_score(sc_y.inverse_transform(y), sc_y.inverse_transform(regressor.predict(X)))\n",
    "            #forecast.append(abs(sc_y.inverse_transform(regressor.predict(sc_X.transform([[4.5]])))))\n",
    "            forecast.append((sc_y.inverse_transform(regressor.predict(sc_X.transform([[5.0]])))))\n",
    "            #forecast.append(abs(sc_y.inverse_transform(regressor.predict(sc_X.transform([[5.5]])))))\n",
    "            forecast.append((sc_y.inverse_transform(regressor.predict(sc_X.transform([[6.0]])))))\n",
    "            #forecast.append(abs(sc_y.inverse_transform(regressor.predict(sc_X.transform([[6.5]])))))\n",
    "            forecast.append((sc_y.inverse_transform(regressor.predict(sc_X.transform([[7.0]])))))\n",
    "            #forecast.append(abs(sc_y.inverse_transform(regressor.predict(sc_X.transform([[7.5]])))))\n",
    "            forecast.append((sc_y.inverse_transform(regressor.predict(sc_X.transform([[8.0]])))))\n",
    "            X_grid = np.arange(min(sc_X.inverse_transform(X)), max(sc_X.inverse_transform(X)), 0.1)\n",
    "            X_grid = X_grid.reshape((len(X_grid), 1))\n",
    "            fig = plt.scatter(sc_X.inverse_transform(X),sc_y.inverse_transform(y),color = 'red')\n",
    "            fig = plt.plot(X_grid, sc_y.inverse_transform(regressor.predict(sc_X.transform(X_grid))), color = 'blue')\n",
    "            plt.title('Free Cash Flow (SVR) of '+ ticker)\n",
    "            plt.xlabel('Years from 2016-2020')\n",
    "            plt.ylabel('Free Cash Flow')\n",
    "    except:\n",
    "        value = (0)\n",
    "\n",
    "    try:\n",
    "        dr = 0.12\n",
    "        pgr = float(0.025)\n",
    "        count = float(0)\n",
    "        totalFreeCashFlow = float(0)\n",
    "        for t in range(len(forecast)):\n",
    "            val1 = (forecast[t] / pow((1+dr),t+1))\n",
    "            totalFreeCashFlow += forecast[t]\n",
    "            count += val1\n",
    "        count = count[0][0]\n",
    "        print(count)\n",
    "        totalFreeCashFlow = totalFreeCashFlow[0][0]\n",
    "        yf.Ticker(ticker[0])\n",
    "        roi = 1 - (count/totalFreeCashFlow)\n",
    "        percentGrowth = ((forecast[3]-forecast[0])/ forecast[0]*4)\n",
    "        totalPercentGrowth= ((10/4) * (percentGrowth**10)) ** (1/10)\n",
    "        intrinsicValue = totalPercentGrowth * forecast[0]\n",
    "        stock = yf.Ticker(ticker)\n",
    "        lastDay= stock.history(period=\"1d\")\n",
    "        lastDay = lastDay['Close'][0]\n",
    "        termVal =float(forecast[3] * (1+pgr)/(dr-pgr))\n",
    "        forecast.append(termVal)\n",
    "        for z in range (len(forecast)):\n",
    "            forecast[z] = abs(forecast[z])\n",
    "        sharesOutstanding = float(yf.Ticker(ticker).info['sharesOutstanding'])\n",
    "        dcfvals = [(1+dr), (1 +dr)*(1+dr), ((1+dr)*(1+dr)*(1+dr)),((1+dr)*(1+dr)*(1+dr)*(1+dr)),((1+dr)*(1+dr)*(1+dr)*(1+dr))]\n",
    "        #print(lastDay)\n",
    "        discountedCashFlow = []\n",
    "        totVal = float()\n",
    "        for y in range (len(forecast)):\n",
    "            discountedCashFlow.append((forecast[y]/pow(2,y))/dcfvals[y])\n",
    "            totVal +=((forecast[y]/pow(2,y-1))/dcfvals[y])\n",
    "        print(discountedCashFlow)\n",
    "        iVal = float(totVal/sharesOutstanding)\n",
    "        print(totVal)\n",
    "        iVal = round(iVal,2)\n",
    "        if (freeCashFlow1 < 0 or freeCashFlow2 < 0 or freeCashFlow3 < 0 or freeCashFlow4 <0):\n",
    "            iVal = float(0)\n",
    "        if (value == 0):\n",
    "            dne = \"This stock has decreasing cash flows or negative cash flows and shouldn't be invested in for the long term. \"\n",
    "            intrinsicVal = float(0)\n",
    "        else:\n",
    "            dne = \"This stock has positive cash flows and you should consider investing in it if it is below the intrinsic value\"\n",
    "\n",
    "  \n",
    "    except:\n",
    "        iVal = float(0)\n",
    "        dne = \"This stock has decreasing cash flows  or negative cash flows and shouldn't be invested in for the long term. \"\n",
    "\n",
    "\n",
    "    return [iVal,dne,termVal]\n",
    "print(intrinsicValue(\"aapl\"))"
   ]
  },
  {
   "cell_type": "code",
   "execution_count": 24,
   "metadata": {},
   "outputs": [
    {
     "ename": "IndentationError",
     "evalue": "unindent does not match any outer indentation level (<tokenize>, line 35)",
     "output_type": "error",
     "traceback": [
      "\u001b[0;36m  File \u001b[0;32m\"<tokenize>\"\u001b[0;36m, line \u001b[0;32m35\u001b[0m\n\u001b[0;31m    except:\u001b[0m\n\u001b[0m    ^\u001b[0m\n\u001b[0;31mIndentationError\u001b[0m\u001b[0;31m:\u001b[0m unindent does not match any outer indentation level\n"
     ]
    }
   ],
   "source": [
    "try:\n",
    "        dr = 0.09\n",
    "        count = float(0)\n",
    "        totalFreeCashFlow = float(0)\n",
    "        for t in range(len(forecast)):\n",
    "            val1 = (forecast[t] / pow((1+dr),t+1))\n",
    "            totalFreeCashFlow += forecast[t]\n",
    "            count += val1\n",
    "        count = count[0][0]\n",
    "        print(count)\n",
    "        totalFreeCashFlow = totalFreeCashFlow[0][0]\n",
    "        yf.Ticker(ticker[0])\n",
    "        roi = 1 - (count/totalFreeCashFlow)\n",
    "        percentGrowth = ((forecast[3]-forecast[0])/ forecast[0]*4)\n",
    "        totalPercentGrowth= ((10/4) * (percentGrowth**10)) ** (1/10)\n",
    "        intrinsicValue = totalPercentGrowth * forecast[0]\n",
    "        stock = yf.Ticker(ticker)\n",
    "        lastDay= stock.history(period=\"1d\")\n",
    "        lastDay = lastDay['Close'][0]\n",
    "        #print(lastDay)\n",
    "        \n",
    "        intrinsicVal  = float(lastDay - (lastDay * (roi)))\n",
    "        intrinsicVal = round(intrinsicVal,2)\n",
    "        if (freeCashFlow1 < 0 or freeCashFlow2 < 0 or freeCashFlow3 < 0 or freeCashFlow4 <0):\n",
    "            intrinsicVal = float(0)\n",
    "            value = 0\n",
    "\n",
    "        if (value == 0):\n",
    "            dne = \"This stock has decreasing cash flows or negative cash flows and shouldn't be invested in for the long term. \"\n",
    "            intrinsicVal = float(0)\n",
    "        else:\n",
    "            dne = \"This stock has positive cash flows and you should consider investing in it if it is below the intrinsic value\"\n",
    "\n",
    "  \n",
    "except:\n",
    "        intrinsicVal = float(0)\n",
    "        roi = float(0)\n",
    "        dne = \"This stock has decreasing cash flows  or negative cash flows and shouldn't be invested in for the long term. \""
   ]
  },
  {
   "cell_type": "code",
   "execution_count": null,
   "metadata": {},
   "outputs": [
    {
     "name": "stdout",
     "output_type": "stream",
     "text": [
      "30\n"
     ]
    },
    {
     "name": "stderr",
     "output_type": "stream",
     "text": [
      "/var/folders/6m/f_ggljg557xf775dl4rrgffr0000gn/T/ipykernel_4753/2071050808.py:45: DataConversionWarning: A column-vector y was passed when a 1d array was expected. Please change the shape of y to (n_samples,), for example using ravel().\n",
      "  regressor.fit(X, (y))\n",
      "/Users/shyamparikh/opt/anaconda3/lib/python3.9/site-packages/sklearn/utils/validation.py:63: DataConversionWarning: A column-vector y was passed when a 1d array was expected. Please change the shape of y to (n_samples, ), for example using ravel().\n",
      "  return f(*args, **kwargs)\n"
     ]
    },
    {
     "data": {
      "image/png": "[encoded data removed]",
      "text/plain": [
       "<Figure size 432x288 with 1 Axes>"
      ]
     },
     "metadata": {
      "needs_background": "light"
     },
     "output_type": "display_data"
    },
    {
     "name": "stdout",
     "output_type": "stream",
     "text": [
      "-448130240275.0183\n",
      "30\n",
      "168.64 is a bad stock price to buy aapl at\n"
     ]
    },
    {
     "name": "stderr",
     "output_type": "stream",
     "text": [
      "/var/folders/6m/f_ggljg557xf775dl4rrgffr0000gn/T/ipykernel_4753/2071050808.py:45: DataConversionWarning: A column-vector y was passed when a 1d array was expected. Please change the shape of y to (n_samples,), for example using ravel().\n",
      "  regressor.fit(X, (y))\n",
      "/Users/shyamparikh/opt/anaconda3/lib/python3.9/site-packages/sklearn/utils/validation.py:63: DataConversionWarning: A column-vector y was passed when a 1d array was expected. Please change the shape of y to (n_samples, ), for example using ravel().\n",
      "  return f(*args, **kwargs)\n"
     ]
    },
    {
     "data": {
      "image/png": "[encoded data removed]",
      "text/plain": [
       "<Figure size 432x288 with 1 Axes>"
      ]
     },
     "metadata": {
      "needs_background": "light"
     },
     "output_type": "display_data"
    },
    {
     "name": "stdout",
     "output_type": "stream",
     "text": [
      "-448130240275.0183\n",
      "116.65\n",
      "168.7\n"
     ]
    }
   ],
   "source": [
    "ticker = \"aapl\"\n",
    "if(calcIV(ticker)< intrinsicValue(ticker)[0]):\n",
    "    print((calcIV(ticker)), \"is a pretty good stock price to buy\" ,ticker, \"at\")\n",
    "else:\n",
    "    print((calcIV(ticker)), \"is a bad stock price to buy\" ,ticker, \"at\")\n",
    "\n",
    "print(intrinsicValue(ticker)[0])\n",
    "print(findStockTicker(ticker))"
   ]
  },
  {
   "cell_type": "code",
   "execution_count": null,
   "metadata": {},
   "outputs": [
    {
     "name": "stderr",
     "output_type": "stream",
     "text": [
      "/var/folders/6m/f_ggljg557xf775dl4rrgffr0000gn/T/ipykernel_4753/2071050808.py:45: DataConversionWarning: A column-vector y was passed when a 1d array was expected. Please change the shape of y to (n_samples,), for example using ravel().\n",
      "  regressor.fit(X, (y))\n",
      "/Users/shyamparikh/opt/anaconda3/lib/python3.9/site-packages/sklearn/utils/validation.py:63: DataConversionWarning: A column-vector y was passed when a 1d array was expected. Please change the shape of y to (n_samples, ), for example using ravel().\n",
      "  return f(*args, **kwargs)\n"
     ]
    },
    {
     "data": {
      "image/png": "[encoded data removed]",
      "text/plain": [
       "<Figure size 432x288 with 1 Axes>"
      ]
     },
     "metadata": {
      "needs_background": "light"
     },
     "output_type": "display_data"
    },
    {
     "name": "stdout",
     "output_type": "stream",
     "text": [
      "22829505778.825806\n"
     ]
    },
    {
     "name": "stderr",
     "output_type": "stream",
     "text": [
      "/var/folders/6m/f_ggljg557xf775dl4rrgffr0000gn/T/ipykernel_4753/2071050808.py:45: DataConversionWarning: A column-vector y was passed when a 1d array was expected. Please change the shape of y to (n_samples,), for example using ravel().\n",
      "  regressor.fit(X, (y))\n",
      "/Users/shyamparikh/opt/anaconda3/lib/python3.9/site-packages/sklearn/utils/validation.py:63: DataConversionWarning: A column-vector y was passed when a 1d array was expected. Please change the shape of y to (n_samples, ), for example using ravel().\n",
      "  return f(*args, **kwargs)\n"
     ]
    },
    {
     "data": {
      "image/png": "[encoded data removed]",
      "text/plain": [
       "<Figure size 432x288 with 1 Axes>"
      ]
     },
     "metadata": {
      "needs_background": "light"
     },
     "output_type": "display_data"
    },
    {
     "name": "stdout",
     "output_type": "stream",
     "text": [
      "22829505778.825806\n"
     ]
    },
    {
     "name": "stderr",
     "output_type": "stream",
     "text": [
      "Exception in Tkinter callback\n",
      "Traceback (most recent call last):\n",
      "  File \"/Users/shyamparikh/opt/anaconda3/lib/python3.9/site-packages/pandas/core/indexes/base.py\", line 3361, in get_loc\n",
      "    return self._engine.get_loc(casted_key)\n",
      "  File \"pandas/_libs/index.pyx\", line 76, in pandas._libs.index.IndexEngine.get_loc\n",
      "  File \"pandas/_libs/index.pyx\", line 108, in pandas._libs.index.IndexEngine.get_loc\n",
      "  File \"pandas/_libs/hashtable_class_helper.pxi\", line 5198, in pandas._libs.hashtable.PyObjectHashTable.get_item\n",
      "  File \"pandas/_libs/hashtable_class_helper.pxi\", line 5206, in pandas._libs.hashtable.PyObjectHashTable.get_item\n",
      "KeyError: 'Capital Expenditures'\n",
      "\n",
      "The above exception was the direct cause of the following exception:\n",
      "\n",
      "Traceback (most recent call last):\n",
      "  File \"/Users/shyamparikh/opt/anaconda3/lib/python3.9/tkinter/__init__.py\", line 1892, in __call__\n",
      "    return self.func(*args)\n",
      "  File \"/var/folders/6m/f_ggljg557xf775dl4rrgffr0000gn/T/ipykernel_4753/487655863.py\", line 11, in frame_sentence\n",
      "    disp2_tf.insert(0, f'Intrinsic Value of {ticker} = ${intrinsicValue(ticker)[0]}')\n",
      "  File \"/var/folders/6m/f_ggljg557xf775dl4rrgffr0000gn/T/ipykernel_4753/2071050808.py\", line 4, in intrinsicValue\n",
      "    freeCashFlow4 = float(cashflow.loc[\"Total Cash From Operating Activities\"][0]) + (cashflow.loc[\"Capital Expenditures\"][0])\n",
      "  File \"/Users/shyamparikh/opt/anaconda3/lib/python3.9/site-packages/pandas/core/indexing.py\", line 931, in __getitem__\n",
      "    return self._getitem_axis(maybe_callable, axis=axis)\n",
      "  File \"/Users/shyamparikh/opt/anaconda3/lib/python3.9/site-packages/pandas/core/indexing.py\", line 1164, in _getitem_axis\n",
      "    return self._get_label(key, axis=axis)\n",
      "  File \"/Users/shyamparikh/opt/anaconda3/lib/python3.9/site-packages/pandas/core/indexing.py\", line 1113, in _get_label\n",
      "    return self.obj.xs(label, axis=axis)\n",
      "  File \"/Users/shyamparikh/opt/anaconda3/lib/python3.9/site-packages/pandas/core/generic.py\", line 3776, in xs\n",
      "    loc = index.get_loc(key)\n",
      "  File \"/Users/shyamparikh/opt/anaconda3/lib/python3.9/site-packages/pandas/core/indexes/base.py\", line 3363, in get_loc\n",
      "    raise KeyError(key) from err\n",
      "KeyError: 'Capital Expenditures'\n",
      "/var/folders/6m/f_ggljg557xf775dl4rrgffr0000gn/T/ipykernel_4753/2071050808.py:45: DataConversionWarning: A column-vector y was passed when a 1d array was expected. Please change the shape of y to (n_samples,), for example using ravel().\n",
      "  regressor.fit(X, (y))\n",
      "/Users/shyamparikh/opt/anaconda3/lib/python3.9/site-packages/sklearn/utils/validation.py:63: DataConversionWarning: A column-vector y was passed when a 1d array was expected. Please change the shape of y to (n_samples, ), for example using ravel().\n",
      "  return f(*args, **kwargs)\n"
     ]
    },
    {
     "data": {
      "image/png": "[encoded data removed]",
      "text/plain": [
       "<Figure size 432x288 with 1 Axes>"
      ]
     },
     "metadata": {
      "needs_background": "light"
     },
     "output_type": "display_data"
    },
    {
     "name": "stdout",
     "output_type": "stream",
     "text": [
      "-448130240275.0183\n"
     ]
    },
    {
     "name": "stderr",
     "output_type": "stream",
     "text": [
      "/var/folders/6m/f_ggljg557xf775dl4rrgffr0000gn/T/ipykernel_4753/2071050808.py:45: DataConversionWarning: A column-vector y was passed when a 1d array was expected. Please change the shape of y to (n_samples,), for example using ravel().\n",
      "  regressor.fit(X, (y))\n",
      "/Users/shyamparikh/opt/anaconda3/lib/python3.9/site-packages/sklearn/utils/validation.py:63: DataConversionWarning: A column-vector y was passed when a 1d array was expected. Please change the shape of y to (n_samples, ), for example using ravel().\n",
      "  return f(*args, **kwargs)\n"
     ]
    },
    {
     "data": {
      "image/png": "[encoded data removed]",
      "text/plain": [
       "<Figure size 432x288 with 1 Axes>"
      ]
     },
     "metadata": {
      "needs_background": "light"
     },
     "output_type": "display_data"
    },
    {
     "name": "stdout",
     "output_type": "stream",
     "text": [
      "-448130240275.0183\n"
     ]
    }
   ],
   "source": [
    "from tkinter import *\n",
    "import tkinter as tk\n",
    "from matplotlib.backends.backend_tkagg import FigureCanvasTkAgg\n",
    "\n",
    "def frame_sentence():\n",
    "    \n",
    "    name = name_tf.get()\n",
    "    ticker = ticker_tf.get()\n",
    "\n",
    "    disp_tf.insert(0,f'{ticker} = ${findStockTicker(ticker)}')\n",
    "    disp2_tf.insert(0, f'Intrinsic Value of {ticker} = ${intrinsicValue(ticker)[0]}')\n",
    "    disp3_tf.insert(0,f' {intrinsicValue(ticker)[1]}')\n",
    "\n",
    "ws = tk.Tk()\n",
    "\n",
    "\n",
    "cashflowStatements = []\n",
    "cashflow = yf.Ticker(ticker).cashflow\n",
    "freeCashFlow4 = float(cashflow.iloc[10][0]) + (cashflow.iloc[-1][0])\n",
    "freeCashFlow3 = float(cashflow.iloc[10][1]) + (cashflow.iloc[-1][1])\n",
    "freeCashFlow2 = float(cashflow.iloc[10][2]) + (cashflow.iloc[-1][2])\n",
    "freeCashFlow1 = float(cashflow.iloc[10][3]) + (cashflow.iloc[-1][3])\n",
    "freeCashFlow35 = float(freeCashFlow4 + freeCashFlow3)/ 2\n",
    "freeCashFlow25 = float(freeCashFlow3 + freeCashFlow2) / 2\n",
    "freeCashFlow15 = float(freeCashFlow2 + freeCashFlow1) / 2\n",
    "cashflowStatements.append(freeCashFlow4)\n",
    "cashflowStatements.append(freeCashFlow35)\n",
    "cashflowStatements.append(freeCashFlow3)\n",
    "cashflowStatements.append(freeCashFlow25)\n",
    "cashflowStatements.append(freeCashFlow2)\n",
    "cashflowStatements.append(freeCashFlow15)\n",
    "cashflowStatements.append(freeCashFlow1)\n",
    "years = [4.0,3.5,3.0,2.5,2.0,1.5,1.0]\n",
    "df = pd.DataFrame()\n",
    "df [ \"Cash Flow Statements\"] = cashflowStatements\n",
    "df [\" Years\"] = years\n",
    "y = df.iloc[:, 0].values\n",
    "X = df.iloc[:, 1].values\n",
    "X = X.reshape(len(X),1)\n",
    "y = y.reshape(len(y),1)\n",
    "\n",
    "#figure1 = plt.Figure(figsize=(6,5), dpi=100)\n",
    "#ax1 = figure1.add_subplot(111)\n",
    "#bar1 = FigureCanvasTkAgg(figure1, ws)\n",
    "#bar1.get_tk_widget().pack(side=tk.LEFT, fill=tk.BOTH)\n",
    "#df.plot(kind='bar', legend=True, ax=ax1)\n",
    "#ax1.set_title('Country Vs. GDP Per Capita')\n",
    "\n",
    "\n",
    "ws.title('PythonGuides')\n",
    "ws.geometry('800x1500')\n",
    "ws.config(bg='#0f4b6e')\n",
    "\n",
    "name_tf = Entry(ws)\n",
    "ticker_tf = Entry(ws)\n",
    "\n",
    "name_lbl = Label(\n",
    "    ws,\n",
    "    text='Name',\n",
    "    bg='#0f4b6e',\n",
    "    fg='white'\n",
    ")\n",
    "ticker_lbl = Label(\n",
    "    ws,\n",
    "    text='Ticker',\n",
    "    bg='#0f4b6e',\n",
    "    fg='white'\n",
    ")\n",
    "\n",
    "\n",
    "name_lbl.pack()\n",
    "name_tf.pack()\n",
    "ticker_lbl.pack()\n",
    "ticker_tf.pack()\n",
    "\n",
    "btn = Button(\n",
    "    ws,\n",
    "    text='Calculate',\n",
    "    relief=SOLID,\n",
    "    command=frame_sentence\n",
    ")\n",
    "btn.pack(pady=10)\n",
    "\n",
    "disp_tf = Entry(\n",
    "    ws, \n",
    "    width=38,\n",
    "    font=('Arial', 14)\n",
    "    )\n",
    "\n",
    "disp_tf.pack(pady=5)\n",
    "\n",
    "disp2_tf = Entry(\n",
    "    ws,\n",
    "    width=38,\n",
    "    font=('Arial', 14)\n",
    "    )\n",
    "disp2_tf.pack(pady=5)\n",
    "\n",
    "\n",
    "disp3_tf = Entry(\n",
    "    ws,\n",
    "    width=85,\n",
    "    font=('Arial', 14)\n",
    "    )\n",
    "disp3_tf.pack(pady=5)\n",
    "\n",
    "\n",
    "ws.mainloop()"
   ]
  }
 ],
 "metadata": {
  "interpreter": {
   "hash": "535e85769c7176ded7f5ee7b438bbd86cd0d4ddbcd0fa087819cad1d9652d9bc"
  },
  "kernelspec": {
   "display_name": "Python 3.8.5 64-bit ('base': conda)",
   "name": "python3"
  },
  "language_info": {
   "codemirror_mode": {
    "name": "ipython",
    "version": 3
   },
   "file_extension": ".py",
   "mimetype": "text/x-python",
   "name": "python",
   "nbconvert_exporter": "python",
   "pygments_lexer": "ipython3",
   "version": "3.9.7"
  }
 },
 "nbformat": 4,
 "nbformat_minor": 4
}
